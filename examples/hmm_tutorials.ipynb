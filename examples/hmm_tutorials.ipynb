{
 "cells": [
  {
   "cell_type": "markdown",
   "metadata": {},
   "source": [
    "# Hidden Markov Models"
   ]
  },
  {
   "cell_type": "markdown",
   "metadata": {},
   "source": [
    "Hidden Markov Models (HMMs) are a class of probabilistic graphical model that allow us to predict a sequence of unknown (hidden) variables from a set of observed variables. \n",
    "\n",
    "An HMM is characterised by the following:\n",
    "\n",
    " - $X$ - states in the model\n",
    " - $y$ - the observations\n",
    " - $A = \\{a_{ij}\\}$ - the state transition probabilities\n",
    " - $B = \\{b_j (k)\\}$ - the observation probabilities\n",
    " - $\\pi$ - the initial state probabilities\n",
    "    \n",
    " \n",
    "\n",
    "The following figure shows a diagram of the probabilistic parameters of an HMM.\n",
    "<img src='img/hmm_diagram.png' width='500'/>\n",
    "\n",
    "There are three fundamental problems regarding HMMs:\n",
    "\n",
    "- **Problem 1 (Likelihood)**: given an HMM $\\lambda = (A,B)$ and an observation sequence O, determine the likelihood $P(O|\\lambda)$}.  \n",
    "- **Problem 2 (Decoding)**: given an HMM $\\lambda = (A,B)$ and an observation sequence O, discover the best hidden state sequence.\n",
    "- **Problem 3 (Learning)**: given an observation sequence O and the set of states in the HMM, learn the HMM parameters A and B.\n",
    "\n",
    "*Reference: https://en.wikipedia.org/wiki/Hidden_Markov_model*\n",
    "\n",
    "Based on the type of the observations, we can differentiate between HMMs with discrete observations, HMMs with continuous observations or a combination of the two. Our implementation can deal with multinomial and Gaussian observations. \n",
    "\n",
    "In the followings we provide examples for each type, with explanations on how to use the code in each case. "
   ]
  },
  {
   "cell_type": "code",
   "execution_count": 1,
   "metadata": {
    "ExecuteTime": {
     "end_time": "2020-03-10T12:21:51.305021Z",
     "start_time": "2020-03-10T12:21:50.330280Z"
    }
   },
   "outputs": [],
   "source": [
    "import numpy as np\n",
    "import pickle\n",
    "\n",
    "from pyhhmm.gaussian import GaussianHMM\n",
    "from pyhhmm.multinomial import MultinomialHMM\n",
    "from pyhhmm.heterogeneous import HeterogeneousHMM\n",
    "import pyhhmm.utils as hu\n",
    "\n",
    "%load_ext autoreload\n",
    "%autoreload 2"
   ]
  },
  {
   "cell_type": "markdown",
   "metadata": {},
   "source": [
    "# Multinomial HMM"
   ]
  },
  {
   "cell_type": "markdown",
   "metadata": {},
   "source": [
    "Consider the following example from the [Hidden Markov Models](https://web.stanford.edu/~jurafsky/slp3/A.pdf) chapter of **Speech and Language Processing** by Daniel Jurafsky & James H. Martin. All the illustrative images are taken from that source.\n",
    "\n",
    "A climatologist in 2799 is studying the history of global warming. He cannot find any weather records from Baltimore, Maryland, for summer 2020, but he finds Jason's diary, where it's listed how many ice creams he ate each day of that summer. The goal is to estimate whether it was a hot or cold day based on these observations. The following figure shows a possible HMM representation of this problem.\n",
    "\n",
    "<img src='img/discrete.png' width='600'/>\n",
    "\n",
    "The two hidden states (H and C) correspond to hot and cold weather, and the observations O = {1,2,3} correspond to the number of ice creams eaten by Jason on a given day. "
   ]
  },
  {
   "cell_type": "markdown",
   "metadata": {},
   "source": [
    "## Setting up the model"
   ]
  },
  {
   "cell_type": "markdown",
   "metadata": {},
   "source": [
    "The MultinomialHMM class uses the following arguments for initialisation:\n",
    "- *n_states* (int) - the number of hidden states\n",
    "- *n_emissions* (int) - the number of distinct observations\n",
    "- *n_features* (list) - a list containing the number of different symbols for each emission\n",
    "- *params* (string, optional) - controls which parameters are updated in the\n",
    "training process; defaults to all parameters\n",
    "- *init_params* (string, optional) - controls which parameters are initialised\n",
    "prior to training; defaults to all parameters\n",
    "- *init_type* (string, optional) - name of the initialisation\n",
    "method to use for initialising the model parameters before training\n",
    "- *pi_prior* (array, optional) - array of shape (n_states, ) setting the\n",
    "parameters of the Dirichlet prior distribution for 'pi'\n",
    "- *A_prior* (array, optional) - array of shape (n_states, n_states),\n",
    "giving the parameters of the Dirichlet prior distribution for each\n",
    "row of the transition probabilities 'A'\n",
    "- *learn_rate* (float, optional) - a value from the $[0,1)$ interval, controlling how much\n",
    "the past values of the model parameters count when computing the new\n",
    "model parameters during training; defaults to 0\n",
    "- *missing* (int or NaN, optional) - a value indicating what character indicates a missed\n",
    "observation in the observation sequences; defaults to NaN\n",
    "- *verbose* (bool, optional) - flag to be set to True if per-iteration\n",
    "convergence reports should be printed during training"
   ]
  },
  {
   "cell_type": "code",
   "execution_count": 2,
   "metadata": {
    "ExecuteTime": {
     "end_time": "2020-03-10T12:21:51.851959Z",
     "start_time": "2020-03-10T12:21:51.820358Z"
    }
   },
   "outputs": [
    {
     "name": "stdout",
     "output_type": "stream",
     "text": [
      "Priors\n",
      "+------------+------------+\n",
      "|     H      |     C      |\n",
      "+------------+------------+\n",
      "| P(H)=0.800 | P(C)=0.200 |\n",
      "+------------+------------+\n",
      "Transitions\n",
      "+---+--------------+--------------+\n",
      "| _ |      H       |      C       |\n",
      "+---+--------------+--------------+\n",
      "| H | P(H|H)=0.600 | P(C|H)=0.400 |\n",
      "| C | P(H|C)=0.500 | P(C|C)=0.500 |\n",
      "+---+--------------+--------------+\n",
      "Emissions\n",
      "+---+--------------+--------------+--------------+\n",
      "| _ |      1       |      2       |      3       |\n",
      "+---+--------------+--------------+--------------+\n",
      "| H | P(1|H)=0.200 | P(2|H)=0.400 | P(3|H)=0.400 |\n",
      "| C | P(1|C)=0.500 | P(2|C)=0.400 | P(3|C)=0.100 |\n",
      "+---+--------------+--------------+--------------+\n"
     ]
    }
   ],
   "source": [
    "states = ['H', 'C']\n",
    "observations = [[1, 2, 3]]\n",
    "\n",
    "# instantiate a MultinomialHMM object\n",
    "my_hmm = MultinomialHMM(\n",
    "    # number of hidden states (H and C)\n",
    "    n_states=2,     \n",
    "    # number of discrete emissions (how many ice creams Jason ate)\n",
    "    n_emissions=1,\n",
    "    # length of the observation alphabet (O = {1, 2, 3}, which becomes {0, 1, 2})\n",
    "    n_features=[3]\n",
    ")\n",
    "\n",
    "# we set model parameters according to the example\n",
    "# the initial state probabilities, array of shape (n_states, )\n",
    "my_hmm.pi = np.array([0.8, 0.2])\n",
    "# the state transition probabilities, array of shape (n_states, n_states)\n",
    "my_hmm.A = np.array([[0.6, 0.4], [0.5, 0.5]])\n",
    "# the emission probabilities, array of shape (n_emissions, ) x (n_states, n_features_i) for i = 0, ... len(n_features)-1\n",
    "my_hmm.B = np.array([[[0.2, 0.4, 0.4], [0.5, 0.4, 0.1]]])\n",
    "\n",
    "hu.pretty_print_hmm(my_hmm, states=states, emissions=observations)"
   ]
  },
  {
   "cell_type": "markdown",
   "metadata": {},
   "source": [
    "## Problem 1"
   ]
  },
  {
   "cell_type": "markdown",
   "metadata": {},
   "source": [
    "We want to determine the probability of an ice-cream observation sequence like 3 1 3, but we don’t know what the hidden state sequence is. In order to compute the likelihood, the *forward* function of the model can be called. This takes as argument:\n",
    "\n",
    "- *observation_sequence* (array) - an array of shape (n_samples, n_emissions) containing an observation sequence.\n",
    "\n",
    "And returns:\n",
    "    \n",
    "- *log_likelihood* (float) - log probability of the observation sequence.\n"
   ]
  },
  {
   "cell_type": "code",
   "execution_count": 3,
   "metadata": {
    "ExecuteTime": {
     "end_time": "2020-03-10T12:21:52.511640Z",
     "start_time": "2020-03-10T12:21:52.483049Z"
    }
   },
   "outputs": [
    {
     "name": "stdout",
     "output_type": "stream",
     "text": [
      "P(3 1 3) = 0.0286\n"
     ]
    }
   ],
   "source": [
    "# all the values from the given example are decreased by one, because the model uses 0 as the first possible observation symbol\n",
    "observation_sequence = np.array([[2], [0], [2]])\n",
    "\n",
    "# The returned value is the log of the probability, i.e: log P(O|model), so in order to get P(O|model) just compute the exp\n",
    "print('P(3 1 3) = {:.4f}'.format(np.exp(my_hmm.forward(observation_sequence))))"
   ]
  },
  {
   "cell_type": "markdown",
   "metadata": {},
   "source": [
    "## Problem 2"
   ]
  },
  {
   "cell_type": "markdown",
   "metadata": {},
   "source": [
    "In the ice-cream domain, given a sequence of ice-cream observations 3 1 3 and an HMM, the task of the decoder is to find the best hidden weather sequence (H C H). \n",
    "\n",
    "For this task the most commonly used method is the Viterbi algorithm. We also implemented the MAP approach. The *decode* function of the model can be called. This takes as arguments:\n",
    "    \n",
    "- *observation_sequences* (list) - a list of arrays of shape (n_samples, n_emissions) containing one or more observation sequences of different lengths\n",
    "- *algorithm* (string, optional) - name of the decoder algorithm to use; can be 'viterbi' or 'map'; defaults to 'viterbi'.\n",
    "    \n",
    "    \n",
    "And returns:\n",
    "\n",
    "- *log_likelihood* (float) - log probability of the produced state sequence.\n",
    "- *state_sequences* (list) - list of arrays containing labels for each observation from observation_sequences obtained via the given decoder algorithm."
   ]
  },
  {
   "cell_type": "code",
   "execution_count": 4,
   "metadata": {
    "ExecuteTime": {
     "end_time": "2020-03-10T12:21:53.168224Z",
     "start_time": "2020-03-10T12:21:53.137630Z"
    }
   },
   "outputs": [
    {
     "name": "stdout",
     "output_type": "stream",
     "text": [
      "The Viterbi state sequence: ['H', 'C', 'H']. logL = -4.3583\n",
      "The MAP state sequence: ['H', 'C', 'H']. logL = 2.3632\n"
     ]
    }
   ],
   "source": [
    "logL, state_seq = my_hmm.decode([observation_sequence], algorithm='viterbi')\n",
    "print('The Viterbi state sequence: {}. logL = {:.4f}'.format([states[si] for si in state_seq[0]], logL))\n",
    "\n",
    "logL, state_seq = my_hmm.decode([observation_sequence], algorithm='map')\n",
    "print('The MAP state sequence: {}. logL = {:.4f}'.format([states[si] for si in state_seq[0]], logL))"
   ]
  },
  {
   "cell_type": "markdown",
   "metadata": {},
   "source": [
    "## Problem 3"
   ]
  },
  {
   "cell_type": "markdown",
   "metadata": {},
   "source": [
    "For this task, we first generate some observation sequences from the model, after we will create a model, in which the parameters are initialised randomly and try to learn the generator's parameters from the observation sequences. For the training process the Baum-Welch algorithm is implemented. "
   ]
  },
  {
   "cell_type": "code",
   "execution_count": 9,
   "metadata": {
    "ExecuteTime": {
     "end_time": "2020-03-10T12:21:59.565454Z",
     "start_time": "2020-03-10T12:21:53.798492Z"
    },
    "scrolled": true
   },
   "outputs": [
    {
     "name": "stdout",
     "output_type": "stream",
     "text": [
      "Initialisation 1\n",
      "iter: 0, log_likelihood = -2565.0955399461845, delta = nan\n",
      "iter: 1, log_likelihood = -2542.289114207393, delta = 22.806425738791404\n",
      "iter: 2, log_likelihood = -2534.9639291664203, delta = 7.325185040972883\n",
      "iter: 3, log_likelihood = -2530.8972028792155, delta = 4.066726287204801\n",
      "iter: 4, log_likelihood = -2528.658122471262, delta = 2.2390804079536792\n",
      "iter: 5, log_likelihood = -2527.408044629846, delta = 1.2500778414159868\n",
      "iter: 6, log_likelihood = -2526.6871730137345, delta = 0.7208716161112534\n",
      "iter: 7, log_likelihood = -2526.2582482393645, delta = 0.4289247743699889\n",
      "iter: 8, log_likelihood = -2525.9968446705393, delta = 0.2614035688252443\n",
      "iter: 9, log_likelihood = -2525.834778139269, delta = 0.16206653127028403\n",
      "iter: 10, log_likelihood = -2525.733046022906, delta = 0.10173211636310953\n",
      "iter: 11, log_likelihood = -2525.6685828115146, delta = 0.06446321139128486\n",
      "iter: 12, log_likelihood = -2525.6274197068406, delta = 0.04116310467406947\n",
      "iter: 13, log_likelihood = -2525.600954689452, delta = 0.026465017388545675\n",
      "Converged -> iter: 13, log_likelihood = -2525.600954689452\n"
     ]
    },
    {
     "data": {
      "image/png": "[encoded data removed]",
      "text/plain": [
       "<Figure size 504x360 with 1 Axes>"
      ]
     },
     "metadata": {},
     "output_type": "display_data"
    }
   ],
   "source": [
    "from pyhhmm.multinomial import MultinomialHMM\n",
    "\n",
    "np.random.seed(1234)\n",
    "\n",
    "# generate observation sequences of different lengths\n",
    "lengths = np.random.randint(25, 150, size=25)\n",
    "X = [\n",
    "    my_hmm.sample(n_sequences=1, n_samples=n_samples)[0] for n_samples in lengths\n",
    "]\n",
    "\n",
    "# instantiate a MultinomialHMM object\n",
    "trained_hmm = MultinomialHMM(\n",
    "    # number of hidden states (H and C)\n",
    "    n_states=2,     \n",
    "    # number of discrete emissions (how many ice creams Jason ate)\n",
    "    n_emissions=1,\n",
    "    # length of the observation alphabet (O = {1, 2, 3}, which becomes {0, 1, 2})\n",
    "    n_features=[3],\n",
    "    # prior for the start probabilities\n",
    "    pi_prior=np.array([5, 1]),\n",
    "    # type of initialisation to use; can be 'uniform' or 'random'\n",
    "    init_type='random',\n",
    "    learning_rate=0.0\n",
    ")\n",
    "\n",
    "# reinitialise the parameters and see if we can re-learn them\n",
    "trained_hmm, log_likelihoods = trained_hmm.train(\n",
    "    X,\n",
    "    n_init=1,     # no. of initialisations - we only do it once this time; if multiple initialisations are used, the model with the best log-likelihood will be returned\n",
    "    n_iter=100,   # maximum no. of iterations to use\n",
    "    conv_thresh=1e-04,   # convergence threshold (in this case if the change in consecutive log-likelihood is < 0.1%)\n",
    "    conv_iter=5,  # no. of iterations for which the convergence criteria should hold before stopping\n",
    "    plot_log_likelihood=True, # if we want a plot of the log-likelihood evolution over the iterations\n",
    ")"
   ]
  },
  {
   "cell_type": "markdown",
   "metadata": {},
   "source": [
    "Now if we look at the model parameters, we can see that using only 25 sequences of  25 - 150 samples leads to a quite accurate estimation of the parameters of the generator HMM. (Note that the order of states is swapped)."
   ]
  },
  {
   "cell_type": "code",
   "execution_count": 6,
   "metadata": {
    "ExecuteTime": {
     "end_time": "2020-03-10T12:21:59.596219Z",
     "start_time": "2020-03-10T12:21:59.567175Z"
    }
   },
   "outputs": [
    {
     "name": "stdout",
     "output_type": "stream",
     "text": [
      "Priors\n",
      "+------------+------------+\n",
      "|     H      |     C      |\n",
      "+------------+------------+\n",
      "| P(H)=0.800 | P(C)=0.200 |\n",
      "+------------+------------+\n",
      "Transitions\n",
      "+---+--------------+--------------+\n",
      "| _ |      H       |      C       |\n",
      "+---+--------------+--------------+\n",
      "| H | P(H|H)=0.600 | P(C|H)=0.400 |\n",
      "| C | P(H|C)=0.500 | P(C|C)=0.500 |\n",
      "+---+--------------+--------------+\n",
      "Emissions\n",
      "+---+--------------+--------------+--------------+\n",
      "| _ |      1       |      2       |      3       |\n",
      "+---+--------------+--------------+--------------+\n",
      "| H | P(1|H)=0.200 | P(2|H)=0.400 | P(3|H)=0.400 |\n",
      "| C | P(1|C)=0.500 | P(2|C)=0.400 | P(3|C)=0.100 |\n",
      "+---+--------------+--------------+--------------+\n"
     ]
    }
   ],
   "source": [
    "hu.pretty_print_hmm(my_hmm, states=states, emissions=observations)"
   ]
  },
  {
   "cell_type": "code",
   "execution_count": 10,
   "metadata": {},
   "outputs": [
    {
     "name": "stdout",
     "output_type": "stream",
     "text": [
      "Priors\n",
      "+------------+------------+\n",
      "|     H      |     C      |\n",
      "+------------+------------+\n",
      "| P(H)=0.531 | P(C)=0.469 |\n",
      "+------------+------------+\n",
      "Transitions\n",
      "+---+--------------+--------------+\n",
      "| _ |      H       |      C       |\n",
      "+---+--------------+--------------+\n",
      "| H | P(H|H)=0.474 | P(C|H)=0.526 |\n",
      "| C | P(H|C)=0.500 | P(C|C)=0.500 |\n",
      "+---+--------------+--------------+\n",
      "Emissions\n",
      "+---+--------------+--------------+--------------+\n",
      "| _ |      1       |      2       |      3       |\n",
      "+---+--------------+--------------+--------------+\n",
      "| H | P(1|H)=0.601 | P(2|H)=0.107 | P(3|H)=0.292 |\n",
      "| C | P(1|C)=0.102 | P(2|C)=0.672 | P(3|C)=0.225 |\n",
      "+---+--------------+--------------+--------------+\n"
     ]
    }
   ],
   "source": [
    "hu.pretty_print_hmm(trained_hmm, states=states, emissions=observations)"
   ]
  },
  {
   "cell_type": "code",
   "execution_count": 8,
   "metadata": {},
   "outputs": [
    {
     "name": "stdout",
     "output_type": "stream",
     "text": [
      "[0.80623966 0.19376034]\n",
      "[[0.48132409 0.51867591]\n",
      " [0.48382248 0.51617752]]\n",
      "[[0.18429413 0.44178659 0.37391928]\n",
      " [0.49683616 0.35513493 0.14802891]]\n"
     ]
    }
   ],
   "source": [
    "from hmmlearn.hmm import MultinomialHMM\n",
    "\n",
    "\n",
    "np.random.seed(1234)\n",
    "hmm = MultinomialHMM(n_components=2)\n",
    "hmm.fit(np.vstack(X), [len(X_i) for X_i in X])\n",
    "\n",
    "print(hmm.startprob_)\n",
    "print(hmm.transmat_)\n",
    "print(hmm.emissionprob_)"
   ]
  },
  {
   "cell_type": "markdown",
   "metadata": {},
   "source": [
    "# Gaussian HMM"
   ]
  },
  {
   "cell_type": "markdown",
   "metadata": {},
   "source": [
    "Source of example: https://hmmlearn.readthedocs.io/en/0.2.0/auto_examples/plot_hmm_sampling.html#sphx-glr-auto-examples-plot-hmm-sampling-py. \n",
    "\n",
    "Consider an HMM with Gaussian emissions, 4 hidden states with specified mean and covariance. The following figure shows shows some samples drawn from the model with the corresponding transitions. \n",
    "\n",
    "<img src='img/gauss_hmm_samples.png' width='600'/>"
   ]
  },
  {
   "cell_type": "markdown",
   "metadata": {},
   "source": [
    "## Setting up the model"
   ]
  },
  {
   "cell_type": "markdown",
   "metadata": {},
   "source": [
    "The GaussianHMM class uses the following arguments for initialisation:\n",
    "\n",
    "- *n_states* (int) - the number of hidden states\n",
    "- *n_emissions* (int) - the number of distinct Gaussian observations\n",
    "- *params* (string, optional) - controls which parameters are updated in the training process; defaults to all parameters\n",
    "- *init_params* (string, optional) - controls which parameters are initialised prior to training; defaults to all parameters\n",
    "- *init_type* (string, optional) - name of the initialisation method to use for initialising the model parameters before training; can be 'random' or 'kmeans'\n",
    "- *covariance_type* (string, optional) - string describing the type of covariance parameters to use.  Must be one of: 'diagonal', 'full', 'spherical' or 'tied'; defaults to 'diagonal'\n",
    "- *pi_prior* (array, optional) - array of shape (n_states, ) setting the parameters of the Dirichlet prior distribution for 'pi'\n",
    "- *A_prior* (array, optional) - array of shape (n_states, n_states), giving the parameters of the Dirichlet prior distribution for each row of the transition probabilities 'A'\n",
    "- *means_prior, means_weight* (array, optional) - arrays of shape (n_states, 1) providing the mean and precision of the Normal prior distribution for the means\n",
    "- *covars_prior, covars_weight* (array, optional) - shape (n_states, 1), provides the parameters of the prior distribution for the covariance matrix\n",
    "- *min_covar* (float, optional)- floor on the diagonal of the covariance matrix to prevent overfitting. Defaults to 1e-3.\n",
    "- *learn_rate* (float, optional) - a value from the $[0,1)$ interval, controlling how much the past values of the model parameters count when computing the new model parameters during training; defaults to 0\n",
    "- *verbose* (bool, optional) - flag to be set to True if per-iteration convergence reports should be printed during training\n"
   ]
  },
  {
   "cell_type": "code",
   "execution_count": 7,
   "metadata": {
    "ExecuteTime": {
     "end_time": "2020-03-10T12:21:59.632169Z",
     "start_time": "2020-03-10T12:21:59.599123Z"
    }
   },
   "outputs": [
    {
     "name": "stdout",
     "output_type": "stream",
     "text": [
      "Priors\n",
      "+--------------+--------------+--------------+--------------+\n",
      "|     S_0      |     S_1      |     S_2      |     S_3      |\n",
      "+--------------+--------------+--------------+--------------+\n",
      "| P(S_0)=0.600 | P(S_1)=0.300 | P(S_2)=0.100 | P(S_3)=0.000 |\n",
      "+--------------+--------------+--------------+--------------+\n",
      "Transitions\n",
      "+-----+------------------+------------------+------------------+------------------+\n",
      "|  _  |       S_0        |       S_1        |       S_2        |       S_3        |\n",
      "+-----+------------------+------------------+------------------+------------------+\n",
      "| S_0 | P(S_0|S_0)=0.700 | P(S_1|S_0)=0.200 | P(S_2|S_0)=0.000 | P(S_3|S_0)=0.100 |\n",
      "| S_1 | P(S_0|S_1)=0.300 | P(S_1|S_1)=0.500 | P(S_2|S_1)=0.200 | P(S_3|S_1)=0.000 |\n",
      "| S_2 | P(S_0|S_2)=0.000 | P(S_1|S_2)=0.300 | P(S_2|S_2)=0.500 | P(S_3|S_2)=0.200 |\n",
      "| S_3 | P(S_0|S_3)=0.200 | P(S_1|S_3)=0.000 | P(S_2|S_3)=0.200 | P(S_3|S_3)=0.600 |\n",
      "+-----+------------------+------------------+------------------+------------------+\n",
      "Means\n",
      "+-----+--------+--------+\n",
      "|  _  |  E_0   |  E_1   |\n",
      "+-----+--------+--------+\n",
      "| S_0 | 0.000  | 0.000  |\n",
      "| S_1 | 0.000  | 11.000 |\n",
      "| S_2 | 9.000  | 10.000 |\n",
      "| S_3 | 11.000 | -1.000 |\n",
      "+-----+--------+--------+\n",
      "Covariances\n",
      "S_0\n",
      "+-----+-------+-------+\n",
      "|  _  |  E_0  |  E_1  |\n",
      "+-----+-------+-------+\n",
      "| E_0 | 0.500 | 0.000 |\n",
      "| E_1 | 0.000 | 0.500 |\n",
      "+-----+-------+-------+\n",
      "S_1\n",
      "+-----+-------+-------+\n",
      "|  _  |  E_0  |  E_1  |\n",
      "+-----+-------+-------+\n",
      "| E_0 | 0.500 | 0.000 |\n",
      "| E_1 | 0.000 | 0.500 |\n",
      "+-----+-------+-------+\n",
      "S_2\n",
      "+-----+-------+-------+\n",
      "|  _  |  E_0  |  E_1  |\n",
      "+-----+-------+-------+\n",
      "| E_0 | 0.500 | 0.000 |\n",
      "| E_1 | 0.000 | 0.500 |\n",
      "+-----+-------+-------+\n",
      "S_3\n",
      "+-----+-------+-------+\n",
      "|  _  |  E_0  |  E_1  |\n",
      "+-----+-------+-------+\n",
      "| E_0 | 0.500 | 0.000 |\n",
      "| E_1 | 0.000 | 0.500 |\n",
      "+-----+-------+-------+\n"
     ]
    }
   ],
   "source": [
    "# instantiate a MultinomialHMM object\n",
    "my_hmm = GaussianHMM(\n",
    "    n_states=4,\n",
    "    n_emissions=2,\n",
    "    covariance_type='diagonal'\n",
    ")\n",
    "\n",
    "# we set model parameters according to the example\n",
    "# the initial state probabilities, array of shape (n_states, )\n",
    "my_hmm.pi = np.array([0.6, 0.3, 0.1, 0.0])\n",
    "# the state transition probabilities, array of shape (n_states, n_states)\n",
    "my_hmm.A = np.array(\n",
    "    [\n",
    "        [0.7, 0.2, 0.0, 0.1],\n",
    "        [0.3, 0.5, 0.2, 0.0],\n",
    "        [0.0, 0.3, 0.5, 0.2],\n",
    "        [0.2, 0.0, 0.2, 0.6],\n",
    "    ]\n",
    ")\n",
    "# the means of each component\n",
    "my_hmm.means = np.array([[0.0, 0.0], [0.0, 11.0], [9.0, 10.0], [11.0, -1.0]])\n",
    "\n",
    "# the covariance of each component - shape depends `covariance_type`\n",
    "#             (n_states, )                          if 'spherical',\n",
    "#             (n_states, n_emissions)               if 'diagonal',\n",
    "#             (n_states, n_emissions, n_emissions)  if 'full'\n",
    "#             (n_emissions, n_emissions)            if 'tied'\n",
    "my_hmm.covars = 0.5 * np.ones((4, 2))  # diagonal covariance matrix\n",
    "\n",
    "hu.pretty_print_hmm(my_hmm, hmm_type='Gaussian')"
   ]
  },
  {
   "cell_type": "markdown",
   "metadata": {},
   "source": [
    "## Problem 3"
   ]
  },
  {
   "cell_type": "markdown",
   "metadata": {},
   "source": [
    "For this task, similarly like in the discrete HMM case, we first generate some observation sequences from the model, after we will create a model, in which the parameters are initialised randomly and try to learn the generator's parameters from the observation sequences."
   ]
  },
  {
   "cell_type": "code",
   "execution_count": 8,
   "metadata": {
    "ExecuteTime": {
     "end_time": "2020-03-10T12:22:34.297900Z",
     "start_time": "2020-03-10T12:21:59.634262Z"
    }
   },
   "outputs": [
    {
     "data": {
      "image/png": "[encoded data removed]",
      "text/plain": [
       "<Figure size 504x360 with 1 Axes>"
      ]
     },
     "metadata": {},
     "output_type": "display_data"
    }
   ],
   "source": [
    "# generate observation sequences of different lengths\n",
    "lengths = np.random.randint(25, 150, size=25)\n",
    "X = [\n",
    "    my_hmm.sample(n_sequences=1, n_samples=n_samples)[0] for n_samples in lengths\n",
    "]\n",
    "\n",
    "# instantiate a MultinomialHMM object\n",
    "trained_hmm = GaussianHMM(\n",
    "    # number of hidden states\n",
    "    n_states=4,\n",
    "    # number of distinct emissions\n",
    "    n_emissions=2,\n",
    "    # can be 'diagonal', 'full', 'spherical', 'tied'\n",
    "    covariance_type='diagonal',\n",
    "    verbose=False\n",
    ")\n",
    "\n",
    "# reinitialise the parameters and see if we can re-learn them\n",
    "trained_hmm, log_likelihoods = trained_hmm.train(\n",
    "    X,\n",
    "    n_init=1,     # number of initialisations to perform\n",
    "    n_iter=100,   # maximum number of iterations to run\n",
    "    conv_thresh=0.001,  # what percentage of change in the log-likelihood between iterations is considered convergence\n",
    "    conv_iter=5,  # for how many iterations does it have to hold\n",
    "    # whether to plot the evolution of the log-likelihood over the iterations\n",
    "    plot_log_likelihood=True,\n",
    "    # set to True if want to train until maximum number of iterations is reached\n",
    "    ignore_conv_crit=False,\n",
    "    no_init=False,  # set to True if the model parameters shouldn't be re-initialised befor training; in this case they have to be set manually first, otherwise errors occur\n",
    ")"
   ]
  },
  {
   "cell_type": "markdown",
   "metadata": {},
   "source": [
    "Now if we look at the model parameters, we can see that using only 25 sequences of  25 - 150 samples leads to a quite accurate estimation of the parameters of the generator HMM. (Note that the order of states is swapped)."
   ]
  },
  {
   "cell_type": "code",
   "execution_count": 9,
   "metadata": {
    "ExecuteTime": {
     "end_time": "2020-03-10T12:22:34.332174Z",
     "start_time": "2020-03-10T12:22:34.299494Z"
    }
   },
   "outputs": [
    {
     "name": "stdout",
     "output_type": "stream",
     "text": [
      "Priors\n",
      "+--------------+--------------+--------------+--------------+\n",
      "|     S_0      |     S_1      |     S_2      |     S_3      |\n",
      "+--------------+--------------+--------------+--------------+\n",
      "| P(S_0)=0.480 | P(S_1)=0.320 | P(S_2)=0.200 | P(S_3)=0.000 |\n",
      "+--------------+--------------+--------------+--------------+\n",
      "Transitions\n",
      "+-----+------------------+------------------+------------------+------------------+\n",
      "|  _  |       S_0        |       S_1        |       S_2        |       S_3        |\n",
      "+-----+------------------+------------------+------------------+------------------+\n",
      "| S_0 | P(S_0|S_0)=0.647 | P(S_1|S_0)=0.199 | P(S_2|S_0)=0.026 | P(S_3|S_0)=0.127 |\n",
      "| S_1 | P(S_0|S_1)=0.303 | P(S_1|S_1)=0.448 | P(S_2|S_1)=0.213 | P(S_3|S_1)=0.036 |\n",
      "| S_2 | P(S_0|S_2)=0.050 | P(S_1|S_2)=0.336 | P(S_2|S_2)=0.439 | P(S_3|S_2)=0.175 |\n",
      "| S_3 | P(S_0|S_3)=0.192 | P(S_1|S_3)=0.045 | P(S_2|S_3)=0.185 | P(S_3|S_3)=0.578 |\n",
      "+-----+------------------+------------------+------------------+------------------+\n",
      "Means\n",
      "+-----+--------+--------+\n",
      "|  _  |  E_0   |  E_1   |\n",
      "+-----+--------+--------+\n",
      "| S_0 | -0.019 | 0.000  |\n",
      "| S_1 | -0.037 | 11.027 |\n",
      "| S_2 | 8.915  | 10.001 |\n",
      "| S_3 | 10.921 | -1.025 |\n",
      "+-----+--------+--------+\n",
      "Covariances\n",
      "S_0\n",
      "+-----+-------+-------+\n",
      "|  _  |  E_0  |  E_1  |\n",
      "+-----+-------+-------+\n",
      "| E_0 | 0.505 | 0.000 |\n",
      "| E_1 | 0.000 | 0.529 |\n",
      "+-----+-------+-------+\n",
      "S_1\n",
      "+-----+-------+-------+\n",
      "|  _  |  E_0  |  E_1  |\n",
      "+-----+-------+-------+\n",
      "| E_0 | 0.530 | 0.000 |\n",
      "| E_1 | 0.000 | 0.475 |\n",
      "+-----+-------+-------+\n",
      "S_2\n",
      "+-----+-------+-------+\n",
      "|  _  |  E_0  |  E_1  |\n",
      "+-----+-------+-------+\n",
      "| E_0 | 0.568 | 0.000 |\n",
      "| E_1 | 0.000 | 0.537 |\n",
      "+-----+-------+-------+\n",
      "S_3\n",
      "+-----+-------+-------+\n",
      "|  _  |  E_0  |  E_1  |\n",
      "+-----+-------+-------+\n",
      "| E_0 | 0.508 | 0.000 |\n",
      "| E_1 | 0.000 | 0.515 |\n",
      "+-----+-------+-------+\n"
     ]
    }
   ],
   "source": [
    "hu.pretty_print_hmm(trained_hmm, hmm_type='Gaussian')"
   ]
  },
  {
   "cell_type": "markdown",
   "metadata": {},
   "source": [
    "# HMM with labels"
   ]
  },
  {
   "cell_type": "markdown",
   "metadata": {},
   "source": [
    "## Loading the training data"
   ]
  },
  {
   "cell_type": "markdown",
   "metadata": {},
   "source": [
    "The Heterogeneous HMM or HMM with labels is helpful when we desire to use an Hidden Markov Model but we want to have different types of distributions managing each of the possible observations.\n",
    "\n",
    "To illustrate this case, we are gonna train an HMM to manage the activity level of an user (a simple HAR problem) by using data collected from his smartphone. Four different types of data are going to be used during training and prediction:\n",
    "\n",
    "- Actigraphy data: it is a continuous signal (it is computed by integrating the three axes of the acceleromenter) that represents the movement of the smartphone.\n",
    "\n",
    "- Light data: it is also a continous signal that represent the ambient light (it is obtainned from the light sensor of the smartphone).\n",
    "\n",
    "- App usage data: this is a binary signal that represent if the user is using (1) or not (0) the smartphone.\n",
    "\n",
    "- Fitbit sleep data: this is also a binary signal, where the 1 represent that the fitbit wearable reports that the user is sleep and 0 that he/she is not.\n",
    "\n",
    "To train the model we have sequences of 24 hours where, at every time instant, we have three different features/observations: the actigraphy, the light and the app usage data points. **It is important to understand that the model, throught the EM algorithm, supports partial or complete missing data**, which means that some of the features or all of them could be missing data points.\n",
    "\n",
    "*An example of one of the sequences used to train the data can be seen in the next image*: it can be seen that, for the light sensor, most of the data is not available, which will be managed by the model thanks to the missing data support.\n",
    "\n",
    "<img src='img/heterogeneous_samples.png' width='600'/>\n",
    "\n",
    "Given the nature of this data, we will use gaussians to manage the actigraphy and light signals and a binary distribution to manage the app usage (if the data had more than two categories, a categorical distribution could be used).\n",
    "\n",
    "With all this data we are going to train a simple Heterogeneous-HMM (where the labels are the app usage and fitbit data) with two states.\n"
   ]
  },
  {
   "cell_type": "code",
   "execution_count": 10,
   "metadata": {
    "ExecuteTime": {
     "end_time": "2020-03-10T12:40:31.940283Z",
     "start_time": "2020-03-10T12:40:31.900935Z"
    }
   },
   "outputs": [
    {
     "data": {
      "text/html": [
       "<div>\n",
       "<style scoped>\n",
       "    .dataframe tbody tr th:only-of-type {\n",
       "        vertical-align: middle;\n",
       "    }\n",
       "\n",
       "    .dataframe tbody tr th {\n",
       "        vertical-align: top;\n",
       "    }\n",
       "\n",
       "    .dataframe thead th {\n",
       "        text-align: right;\n",
       "    }\n",
       "</style>\n",
       "<table border=\"1\" class=\"dataframe\">\n",
       "  <thead>\n",
       "    <tr style=\"text-align: right;\">\n",
       "      <th></th>\n",
       "      <th>seq_no</th>\n",
       "      <th>date</th>\n",
       "      <th>actigraphy</th>\n",
       "      <th>light</th>\n",
       "      <th>app_usage</th>\n",
       "      <th>sleep</th>\n",
       "    </tr>\n",
       "  </thead>\n",
       "  <tbody>\n",
       "    <tr>\n",
       "      <th>0</th>\n",
       "      <td>0</td>\n",
       "      <td>2018-08-05 15:05:30</td>\n",
       "      <td>-0.305134</td>\n",
       "      <td>-0.918191</td>\n",
       "      <td>1</td>\n",
       "      <td>0</td>\n",
       "    </tr>\n",
       "    <tr>\n",
       "      <th>1</th>\n",
       "      <td>0</td>\n",
       "      <td>2018-08-05 15:10:32</td>\n",
       "      <td>-0.290736</td>\n",
       "      <td>NaN</td>\n",
       "      <td>1</td>\n",
       "      <td>0</td>\n",
       "    </tr>\n",
       "    <tr>\n",
       "      <th>2</th>\n",
       "      <td>0</td>\n",
       "      <td>2018-08-05 15:15:32</td>\n",
       "      <td>-0.595398</td>\n",
       "      <td>NaN</td>\n",
       "      <td>1</td>\n",
       "      <td>0</td>\n",
       "    </tr>\n",
       "    <tr>\n",
       "      <th>3</th>\n",
       "      <td>0</td>\n",
       "      <td>2018-08-05 15:20:34</td>\n",
       "      <td>-0.545724</td>\n",
       "      <td>NaN</td>\n",
       "      <td>1</td>\n",
       "      <td>0</td>\n",
       "    </tr>\n",
       "    <tr>\n",
       "      <th>4</th>\n",
       "      <td>0</td>\n",
       "      <td>2018-08-05 15:25:34</td>\n",
       "      <td>0.033796</td>\n",
       "      <td>NaN</td>\n",
       "      <td>1</td>\n",
       "      <td>0</td>\n",
       "    </tr>\n",
       "  </tbody>\n",
       "</table>\n",
       "</div>"
      ],
      "text/plain": [
       "   seq_no                date  actigraphy     light  app_usage  sleep\n",
       "0       0 2018-08-05 15:05:30   -0.305134 -0.918191          1      0\n",
       "1       0 2018-08-05 15:10:32   -0.290736       NaN          1      0\n",
       "2       0 2018-08-05 15:15:32   -0.595398       NaN          1      0\n",
       "3       0 2018-08-05 15:20:34   -0.545724       NaN          1      0\n",
       "4       0 2018-08-05 15:25:34    0.033796       NaN          1      0"
      ]
     },
     "execution_count": 10,
     "metadata": {},
     "output_type": "execute_result"
    }
   ],
   "source": [
    "# load the training data - train.pickle contains a dataframe of 10 time series sequences of 286 - 289 observations\n",
    "# and the preprocessed training sequence list as well\n",
    "with open('data/train.pickle', 'rb') as f:\n",
    "    temp = pickle.load(open('data/train.pickle', 'rb'))\n",
    "    df = temp['all']\n",
    "    training_seq = temp['tr_seq']\n",
    "    \n",
    "df.head()"
   ]
  },
  {
   "cell_type": "markdown",
   "metadata": {},
   "source": [
    "## Training the model"
   ]
  },
  {
   "cell_type": "markdown",
   "metadata": {},
   "source": [
    "The HeterogeneousHMM class uses the following arguments for initialisation:\n",
    "- *n_states* (int) - the number of hidden states.\n",
    "- *n_g_emissions* (int) - the number of distinct Gaussian observations.\n",
    "- *n_d_emissions* (int) - the number of distinct discrete observations.\n",
    "- *n_d_features* (list - list of the number of possible observable symbols for each discrete emission.\n",
    "- *params* (string, optional) - controls which parameters are updated in the training process; defaults to all parameters.\n",
    "- *init_params* (string, optional) - controls which parameters are initialised prior to training; defaults to all parameters.\n",
    "- *init_type* (string, optional) - name of the initialisation method to use for initialising the model parameters before training; can be 'random' or 'kmeans'.\n",
    "- *nr_no_train_de* (int) - this number indicates the number of discrete emissions whose Matrix Emission Probabilities are fixed and are not trained; it is important to to order the observed variables such that the ones whose emissions aren't trained are the last ones. \n",
    "- *state_no_train_de* (int) - a state index for nr_no_train_de which shouldn't be updated; defaults to None, which means that the entire emission probability matrix for that discrete emission will be kept unchanged during training, otherwise the last state_no_train_de states won't be updated\n",
    "- *covariance_type* (string, optional) - string describing the type of covariance parameters to use.  Must be one of: 'diagonal', 'full', 'spherical' or 'tied'; defaults to 'diagonal'.\n",
    "- *pi_prior* (array, optional) - array of shape (n_states, ) setting the parameters of the Dirichlet prior distribution for 'pi'.\n",
    "- *A_prior* (array, optional) - array of shape (n_states, n_states), giving the parameters of the Dirichlet prior distribution for each row of the transition probabilities 'A'.\n",
    "- *means_prior, means_weight* (array, optional) - arrays of shape (n_states, 1) providing the mean and precision of the Normal prior distribution for the means.\n",
    "- *covars_prior, covars_weight* (array, optional) - shape (n_states, 1), provides the parameters of the prior distribution for the covariance matrix.\n",
    "- *min_covar* (float, optional)- floor on the diagonal of the covariance matrix to prevent overfitting. Defaults to 1e-3.\n",
    "- *learn_rate* (float, optional) - a value from the $[0,1)$ interval, controlling how much the past values of the model parameters count when computing the new model parameters during training; defaults to 0.\n",
    "- *verbose* (bool, optional) - flag to be set to True if per-iteration convergence reports should be printed during training.\n"
   ]
  },
  {
   "cell_type": "markdown",
   "metadata": {},
   "source": [
    "We create a model that will have 2 states (just to keep it simple), that will managed 2 features with gaussian distributions and 2 features as discrete observations. With the 'n_d_features' parameter we indicate the model that the two features that we want to manage as discrete are both binary. If, for example, the app usage could take three different values, the 'n_d_features' would be equal to [3,2].\n",
    "\n",
    "**The model also allows us to fix some of the discrete observations probabilities**: for example, if we want one of the states not to be reachable when the fitbit is equal to 1 (which means that the user is sleeping according to fitbit's data), we can fix the emission probability for one of the states to 1 when fitbit=1 and to 0 in the other case, **we do this  in the next section of code by accesing to my_hmm.B**. *Also, to indicate the model that we want it to not train this last feature, we set 'nr_no_train_de=1'* **(the last 'nr_no_train_de' are not trained but fixed to the original value)**. In case we don´t desire the model to fix certain probabilities of emission, 'nr_no_train_de' must be equal to zero, which means that the model will train all the emission probabilities."
   ]
  },
  {
   "cell_type": "code",
   "execution_count": 11,
   "metadata": {
    "ExecuteTime": {
     "end_time": "2020-03-10T12:43:32.996065Z",
     "start_time": "2020-03-10T12:42:34.669747Z"
    }
   },
   "outputs": [
    {
     "name": "stdout",
     "output_type": "stream",
     "text": [
      "Initialisation 1\n",
      "iter: 0, log_likelihood = -14170.248349449343, delta = nan\n",
      "iter: 1, log_likelihood = -6639.777554515962, delta = 7530.470794933381\n",
      "iter: 2, log_likelihood = -5178.905225451134, delta = 1460.8723290648277\n",
      "iter: 3, log_likelihood = -5035.965484237162, delta = 142.9397412139724\n",
      "iter: 4, log_likelihood = -5028.090616987825, delta = 7.874867249336603\n",
      "iter: 5, log_likelihood = -5027.214591328436, delta = 0.8760256593895974\n",
      "iter: 6, log_likelihood = -5026.866707146282, delta = 0.34788418215339334\n",
      "iter: 7, log_likelihood = -5026.577000715893, delta = 0.2897064303897423\n",
      "iter: 8, log_likelihood = -5026.296018447567, delta = 0.28098226832571527\n",
      "iter: 9, log_likelihood = -5026.019360040466, delta = 0.2766584071005127\n",
      "Converged -> iter: 9, log_likelihood = -5026.019360040466\n"
     ]
    },
    {
     "data": {
      "image/png": "[encoded data removed]",
      "text/plain": [
       "<Figure size 504x360 with 1 Axes>"
      ]
     },
     "metadata": {},
     "output_type": "display_data"
    },
    {
     "name": "stdout",
     "output_type": "stream",
     "text": [
      "Initialisation 2\n",
      "iter: 0, log_likelihood = -16618.91596907916, delta = nan\n",
      "iter: 1, log_likelihood = -6791.756505835648, delta = 9827.159463243512\n",
      "iter: 2, log_likelihood = -5174.8252200831685, delta = 1616.9312857524792\n",
      "iter: 3, log_likelihood = -5033.875917281987, delta = 140.94930280118115\n",
      "iter: 4, log_likelihood = -5028.709580481266, delta = 5.166336800721183\n",
      "iter: 5, log_likelihood = -5028.045596434861, delta = 0.6639840464049485\n",
      "iter: 6, log_likelihood = -5027.710818472646, delta = 0.3347779622154121\n",
      "iter: 7, log_likelihood = -5027.412468697777, delta = 0.29834977486916614\n",
      "iter: 8, log_likelihood = -5027.121066019091, delta = 0.29140267868569936\n",
      "iter: 9, log_likelihood = -5026.834152446058, delta = 0.286913573032507\n",
      "Converged -> iter: 9, log_likelihood = -5026.834152446058\n"
     ]
    },
    {
     "data": {
      "image/png": "[encoded data removed]",
      "text/plain": [
       "<Figure size 504x360 with 1 Axes>"
      ]
     },
     "metadata": {},
     "output_type": "display_data"
    },
    {
     "name": "stdout",
     "output_type": "stream",
     "text": [
      "Initialisation 3\n",
      "iter: 0, log_likelihood = -11387.771648543263, delta = nan\n",
      "iter: 1, log_likelihood = -6054.395161595177, delta = 5333.376486948086\n",
      "iter: 2, log_likelihood = -5229.517869925989, delta = 824.8772916691887\n",
      "iter: 3, log_likelihood = -5053.78532670718, delta = 175.73254321880904\n",
      "iter: 4, log_likelihood = -5030.143281473632, delta = 23.642045233547833\n",
      "iter: 5, log_likelihood = -5027.646127659914, delta = 2.497153813717887\n",
      "iter: 6, log_likelihood = -5027.129612054213, delta = 0.5165156057009881\n",
      "iter: 7, log_likelihood = -5026.823938557021, delta = 0.30567349719149206\n",
      "iter: 8, log_likelihood = -5026.54190435608, delta = 0.28203420094178\n",
      "iter: 9, log_likelihood = -5026.264202591469, delta = 0.2777017646103559\n",
      "Converged -> iter: 9, log_likelihood = -5026.264202591469\n"
     ]
    },
    {
     "data": {
      "image/png": "[encoded data removed]",
      "text/plain": [
       "<Figure size 504x360 with 1 Axes>"
      ]
     },
     "metadata": {},
     "output_type": "display_data"
    },
    {
     "name": "stdout",
     "output_type": "stream",
     "text": [
      "Priors\n",
      "+--------------+--------------+\n",
      "|     S_0      |     S_1      |\n",
      "+--------------+--------------+\n",
      "| P(S_0)=0.749 | P(S_1)=0.251 |\n",
      "+--------------+--------------+\n",
      "Transitions\n",
      "+-----+------------------+------------------+\n",
      "|  _  |       S_0        |       S_1        |\n",
      "+-----+------------------+------------------+\n",
      "| S_0 | P(S_0|S_0)=0.957 | P(S_1|S_0)=0.043 |\n",
      "| S_1 | P(S_0|S_1)=0.060 | P(S_1|S_1)=0.940 |\n",
      "+-----+------------------+------------------+\n",
      "Means\n",
      "+-----+--------+--------+\n",
      "|  _  |  GE_0  |  GE_1  |\n",
      "+-----+--------+--------+\n",
      "| S_0 | 0.325  | 0.010  |\n",
      "| S_1 | -0.452 | -0.099 |\n",
      "+-----+--------+--------+\n",
      "Covariances\n",
      "S_0\n",
      "+------+-------+-------+\n",
      "|  _   |  GE_0 |  GE_1 |\n",
      "+------+-------+-------+\n",
      "| GE_0 | 1.358 | 0.000 |\n",
      "| GE_1 | 0.000 | 0.191 |\n",
      "+------+-------+-------+\n",
      "S_1\n",
      "+------+-------+-------+\n",
      "|  _   |  GE_0 |  GE_1 |\n",
      "+------+-------+-------+\n",
      "| GE_0 | 0.151 | 0.000 |\n",
      "| GE_1 | 0.000 | 0.007 |\n",
      "+------+-------+-------+\n",
      "Emissions\n",
      "+-----+--------------------+--------------------+\n",
      "|  _  |       DE_00        |       DE_01        |\n",
      "+-----+--------------------+--------------------+\n",
      "| S_0 | P(DE_00|S_0)=0.427 | P(DE_01|S_0)=0.573 |\n",
      "| S_1 | P(DE_00|S_1)=0.854 | P(DE_01|S_1)=0.146 |\n",
      "+-----+--------------------+--------------------+\n",
      "+-----+--------------------+--------------------+\n",
      "|  _  |       DE_10        |       DE_11        |\n",
      "+-----+--------------------+--------------------+\n",
      "| S_0 | P(DE_10|S_0)=1.000 | P(DE_11|S_0)=0.000 |\n",
      "| S_1 | P(DE_10|S_1)=0.000 | P(DE_11|S_1)=1.000 |\n",
      "+-----+--------------------+--------------------+\n"
     ]
    }
   ],
   "source": [
    "# instantiate a HeterogeneousHMM object\n",
    "my_hmm = HeterogeneousHMM(\n",
    "        n_states=2,\n",
    "        n_g_emissions=2,\n",
    "        n_d_emissions=2,\n",
    "        n_d_features=[2, 2],\n",
    "        covariance_type='diagonal',\n",
    "        nr_no_train_de=1,\n",
    "        verbose=True,\n",
    "    )\n",
    "\n",
    "# we want to fix the emission probabilities for the sleep parameter, so we need to manually initialise the \n",
    "# B matrix before the fitting; so for the first emissions, since we have no prior knowledge on it, we uniformly\n",
    "# initialise the emission probablities, and for the second one we set it to the desired value\n",
    "my_hmm.B = [0.5*np.ones((2,2)), np.eye(2)]\n",
    "\n",
    "# train the model to estimate the parameters\n",
    "my_hmm, log_likelihood = my_hmm.train(\n",
    "    training_seq, n_init=3, n_iter=50, conv_thresh=0.001, conv_iter=5, plot_log_likelihood=True,\n",
    ")\n",
    "\n",
    "# print model parameters\n",
    "hu.pretty_print_hmm(my_hmm, hmm_type='Heterogeneous')"
   ]
  },
  {
   "cell_type": "markdown",
   "metadata": {},
   "source": [
    "As you can see in the previous table, the emission proabilities of the second discrete feature (fitbit data) has been fixed to 0 and 1 values during the training as we indicate with the 'nr_no_train_de' variable during initialization. **It is also possible to partially training the emission probabilities to let the model train the probabilities for certain states while fixing those probability values for the rest of the states**, to do so, the variable **'state_no_train_de'** must be used."
   ]
  },
  {
   "cell_type": "markdown",
   "metadata": {},
   "source": [
    "## Sequence decoding"
   ]
  },
  {
   "cell_type": "code",
   "execution_count": 12,
   "metadata": {
    "ExecuteTime": {
     "end_time": "2020-03-10T13:56:59.617791Z",
     "start_time": "2020-03-10T13:56:56.420864Z"
    }
   },
   "outputs": [
    {
     "name": "stderr",
     "output_type": "stream",
     "text": [
      "/Users/esukei/opt/miniconda3/envs/hmm_env/lib/python3.7/site-packages/pyhhmm/utils.py:463: UserWarning: FixedFormatter should only be used together with FixedLocator\n",
      "  for ts in time_stamps])\n",
      "/Users/esukei/opt/miniconda3/envs/hmm_env/lib/python3.7/site-packages/pyhhmm/utils.py:463: UserWarning: FixedFormatter should only be used together with FixedLocator\n",
      "  for ts in time_stamps])\n",
      "/Users/esukei/opt/miniconda3/envs/hmm_env/lib/python3.7/site-packages/pyhhmm/utils.py:463: UserWarning: FixedFormatter should only be used together with FixedLocator\n",
      "  for ts in time_stamps])\n",
      "/Users/esukei/opt/miniconda3/envs/hmm_env/lib/python3.7/site-packages/pyhhmm/utils.py:463: UserWarning: FixedFormatter should only be used together with FixedLocator\n",
      "  for ts in time_stamps])\n"
     ]
    },
    {
     "data": {
      "image/png": "[encoded data removed]",
      "text/plain": [
       "<Figure size 1080x720 with 4 Axes>"
      ]
     },
     "metadata": {},
     "output_type": "display_data"
    }
   ],
   "source": [
    "# decode a training sequences\n",
    "logL, state_seq = my_hmm.decode([training_seq[0]], algorithm='viterbi')\n",
    "\n",
    "hu.plot_decode(\n",
    "    training_seq[0], \n",
    "    ['actigraphy', 'light', 'app_usage', 'sleep'], \n",
    "    state_seq[0], \n",
    "    discrete_columns=['app_usage', 'sleep'], \n",
    "    time_stamps=df[df['seq_no'] == 0]['date'],\n",
    "    figsize=(15, 10)\n",
    ")\n",
    "               "
   ]
  },
  {
   "cell_type": "markdown",
   "metadata": {},
   "source": [
    "In the previous figure we can observe that the model has clearly associated the state 1 to being sleep because we fixed the emission probabilities to p(state_1 | being_sleep)=1 and p(state_1 | being_awake)=0. This way, we get the model to train the rest of the parameters in order to that state to represent the sleep of the users. If we hadn´t fix those probabilities, the emission probability matrix of both of the state for the sleep feature would have been trained from scratch."
   ]
  }
 ],
 "metadata": {
  "interpreter": {
   "hash": "2f8b5f7be5eb1c5719a58d3b29660143adeaff0189ca00a4e1d1261291acb543"
  },
  "kernelspec": {
   "display_name": "Python 3",
   "language": "python",
   "name": "python3"
  },
  "language_info": {
   "codemirror_mode": {
    "name": "ipython",
    "version": 3
   },
   "file_extension": ".py",
   "mimetype": "text/x-python",
   "name": "python",
   "nbconvert_exporter": "python",
   "pygments_lexer": "ipython3",
   "version": "3.8.3"
  },
  "latex_envs": {
   "LaTeX_envs_menu_present": true,
   "autoclose": false,
   "autocomplete": true,
   "bibliofile": "biblio.bib",
   "cite_by": "apalike",
   "current_citInitial": 1,
   "eqLabelWithNumbers": true,
   "eqNumInitial": 1,
   "hotkeys": {
    "equation": "Ctrl-E",
    "itemize": "Ctrl-I"
   },
   "labels_anchors": false,
   "latex_user_defs": false,
   "report_style_numbering": false,
   "user_envs_cfg": false
  },
  "toc": {
   "base_numbering": 1,
   "nav_menu": {},
   "number_sections": true,
   "sideBar": true,
   "skip_h1_title": false,
   "title_cell": "Table of Contents",
   "title_sidebar": "Contents",
   "toc_cell": false,
   "toc_position": {},
   "toc_section_display": true,
   "toc_window_display": true
  },
  "varInspector": {
   "cols": {
    "lenName": 16,
    "lenType": 16,
    "lenVar": 40
   },
   "kernels_config": {
    "python": {
     "delete_cmd_postfix": "",
     "delete_cmd_prefix": "del ",
     "library": "var_list.py",
     "varRefreshCmd": "print(var_dic_list())"
    },
    "r": {
     "delete_cmd_postfix": ") ",
     "delete_cmd_prefix": "rm(",
     "library": "var_list.r",
     "varRefreshCmd": "cat(var_dic_list()) "
    }
   },
   "position": {
    "height": "382.535px",
    "left": "896.747px",
    "right": "20px",
    "top": "87.9653px",
    "width": "557.066px"
   },
   "types_to_exclude": [
    "module",
    "function",
    "builtin_function_or_method",
    "instance",
    "_Feature"
   ],
   "window_display": false
  }
 },
 "nbformat": 4,
 "nbformat_minor": 4
}
